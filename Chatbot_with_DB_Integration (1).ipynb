{
  "nbformat": 4,
  "nbformat_minor": 0,
  "metadata": {
    "colab": {
      "provenance": []
    },
    "kernelspec": {
      "name": "python3",
      "display_name": "Python 3"
    },
    "language_info": {
      "name": "python"
    }
  },
  "cells": [
    {
      "cell_type": "code",
      "execution_count": null,
      "metadata": {
        "id": "OFGOZC36B99l",
        "colab": {
          "base_uri": "https://localhost:8080/"
        },
        "outputId": "bd479346-7aa9-40db-80e3-adfb5ccaa864"
      },
      "outputs": [
        {
          "output_type": "stream",
          "name": "stdout",
          "text": [
            "\u001b[?25l   \u001b[90m━━━━━━━━━━━━━━━━━━━━━━━━━━━━━━━━━━━━━━━━\u001b[0m \u001b[32m0.0/135.8 kB\u001b[0m \u001b[31m?\u001b[0m eta \u001b[36m-:--:--\u001b[0m\r\u001b[2K   \u001b[90m━━━━━━━━━━━━━━━━━━━━━━━━━━━━━━━━━━━━━━━━\u001b[0m \u001b[32m135.8/135.8 kB\u001b[0m \u001b[31m4.1 MB/s\u001b[0m eta \u001b[36m0:00:00\u001b[0m\n",
            "\u001b[2K   \u001b[90m━━━━━━━━━━━━━━━━━━━━━━━━━━━━━━━━━━━━━━━━\u001b[0m \u001b[32m108.8/108.8 kB\u001b[0m \u001b[31m7.6 MB/s\u001b[0m eta \u001b[36m0:00:00\u001b[0m\n",
            "\u001b[2K   \u001b[90m━━━━━━━━━━━━━━━━━━━━━━━━━━━━━━━━━━━━━━━━\u001b[0m \u001b[32m2.5/2.5 MB\u001b[0m \u001b[31m34.8 MB/s\u001b[0m eta \u001b[36m0:00:00\u001b[0m\n",
            "\u001b[2K   \u001b[90m━━━━━━━━━━━━━━━━━━━━━━━━━━━━━━━━━━━━━━━━\u001b[0m \u001b[32m199.5/199.5 kB\u001b[0m \u001b[31m12.5 MB/s\u001b[0m eta \u001b[36m0:00:00\u001b[0m\n",
            "\u001b[2K   \u001b[90m━━━━━━━━━━━━━━━━━━━━━━━━━━━━━━━━━━━━━━━━\u001b[0m \u001b[32m1.0/1.0 MB\u001b[0m \u001b[31m34.7 MB/s\u001b[0m eta \u001b[36m0:00:00\u001b[0m\n",
            "\u001b[2K   \u001b[90m━━━━━━━━━━━━━━━━━━━━━━━━━━━━━━━━━━━━━━━━\u001b[0m \u001b[32m410.6/410.6 kB\u001b[0m \u001b[31m20.1 MB/s\u001b[0m eta \u001b[36m0:00:00\u001b[0m\n",
            "\u001b[2K   \u001b[90m━━━━━━━━━━━━━━━━━━━━━━━━━━━━━━━━━━━━━━━━\u001b[0m \u001b[32m49.5/49.5 kB\u001b[0m \u001b[31m3.2 MB/s\u001b[0m eta \u001b[36m0:00:00\u001b[0m\n",
            "\u001b[?25h"
          ]
        }
      ],
      "source": [
        "!pip install -q langgraph-checkpoint-sqlite langgraph groq langchain_anthropic langchain_community"
      ]
    },
    {
      "cell_type": "code",
      "source": [
        "import sqlite3\n",
        "from groq import Groq\n",
        "\n",
        "client = Groq(api_key=\"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\")\n",
        "db_connection = sqlite3.connect(\"chat_memory.db\")\n",
        "cursor = db_connection.cursor()\n",
        "cursor.execute(\"\"\"\n",
        "CREATE TABLE IF NOT EXISTS messages (\n",
        "    thread_id TEXT,\n",
        "    role TEXT,\n",
        "    content TEXT\n",
        ")\n",
        "\"\"\")\n",
        "db_connection.commit()\n",
        "\n",
        "def save_message(thread_id, role, content):\n",
        "    cursor.execute(\n",
        "        \"INSERT INTO messages (thread_id, role, content) VALUES (?, ?, ?)\",\n",
        "        (thread_id, role, content)\n",
        "    )\n",
        "    db_connection.commit()\n",
        "\n",
        "def fetch_messages(thread_id, num_messages=5):\n",
        "    cursor.execute(\n",
        "        \"SELECT role, content FROM messages WHERE thread_id = ? ORDER BY rowid DESC LIMIT ?\",\n",
        "        (thread_id, num_messages)\n",
        "    )\n",
        "    rows = cursor.fetchall()\n",
        "    return [{\"role\": role, \"content\": content} for role, content in reversed(rows)]\n",
        "\n",
        "def extract_assistant_reply(response):\n",
        "    if hasattr(response, 'choices') and len(response.choices) > 0:\n",
        "        choice = response.choices[0]\n",
        "        if hasattr(choice, 'message') and hasattr(choice.message, 'content'):\n",
        "            return choice.message.content\n",
        "    return \"Sorry, I couldn't process your request.\"\n",
        "\n",
        "def print_thread_memory(thread_id):\n",
        "    messages = fetch_messages(thread_id)\n",
        "    print(f\"\\n--- Memory for Thread {thread_id} ---\")\n",
        "    for message in messages:\n",
        "        print(f\"Role: {message['role']}, Content: {message['content']}\")\n",
        "\n",
        "def chatbot(thread_id, user_input):\n",
        "    save_message(thread_id, \"user\", user_input)\n",
        "    messages = fetch_messages(thread_id)\n",
        "\n",
        "    system_message = {\"role\": \"system\", \"content\": \"You are a helpful chatbot. You have to reply to content in concise manner. Your name is Alex and you are a helpful chatbot\"}\n",
        "    messages.insert(0, system_message)\n",
        "\n",
        "    try:\n",
        "        response = client.chat.completions.create(\n",
        "            model=\"mixtral-8x7b-32768\",\n",
        "            messages=messages\n",
        "        )\n",
        "        assistant_reply = extract_assistant_reply(response)\n",
        "        save_message(thread_id, \"assistant\", assistant_reply)\n",
        "        return assistant_reply\n",
        "    except Exception as e:\n",
        "        print(\"\\n--- Error Triggered ---\")\n",
        "        print(str(e))\n",
        "        return \"There was an error processing your request. Please try again later.\"\n",
        "\n",
        "def start_interactive_chat(thread_id):\n",
        "    print(\"Starting conversation... Type 'exit' to end the chat.\")\n",
        "\n",
        "    while True:\n",
        "        user_input = input(\"You: \")\n",
        "\n",
        "        if user_input.lower() == \"show memory\":\n",
        "            print_thread_memory(thread_id)\n",
        "            continue\n",
        "\n",
        "        if \"remember\" in user_input.lower() or \"last convo\" in user_input.lower():\n",
        "            messages = fetch_messages(thread_id)\n",
        "            if messages:\n",
        "                print(\"\\nRecalling your last conversation:\\n\")\n",
        "                for message in messages:\n",
        "                    print(f\"Role: {message['role']}, Content: {message['content']}\")\n",
        "            else:\n",
        "                print(\"I don't have a conversation history with you yet.\")\n",
        "            continue\n",
        "\n",
        "        if user_input.lower() == \"exit\":\n",
        "            print(\"Ending conversation.\")\n",
        "            break\n",
        "\n",
        "        response = chatbot(thread_id, user_input)\n",
        "        print(f\"Bot: {response}\")\n",
        "\n",
        "thread_id = \"1\"\n",
        "start_interactive_chat(thread_id)"
      ],
      "metadata": {
        "colab": {
          "base_uri": "https://localhost:8080/",
          "height": 914
        },
        "id": "R0ZV6qSm984t",
        "outputId": "c70b2569-07a8-439a-88cf-c5f59f960120"
      },
      "execution_count": null,
      "outputs": [
        {
          "output_type": "stream",
          "name": "stdout",
          "text": [
            "Starting conversation... Type 'exit' to end the chat.\n",
            "You: do you remember a poem i asked \n",
            "\n",
            "Recalling your last conversation:\n",
            "\n",
            "Role: assistant, Content: Hello, Ebe! It's nice to meet you. I'm Alex, a helpful chatbot that strives to provide brief and precise responses. I'm here to answer your questions, address any concerns, or engage in a conversation on various topics. What would you like to know or talk about, Ebe? I'm all ears!\n",
            "Role: user, Content: What is my name\n",
            "Role: assistant, Content: Based on the information you've provided, your name is Ebe. I'm here to assist you and make sure your experience is as smooth as possible. If you have any questions about a specific topic, feel free to ask, and I'll do my best to provide clear and concise answers.\n",
            "Role: user, Content: give me a poem about samosa\n",
            "Role: assistant, Content: In the realm of savory, there lies a gem,\n",
            "Samosa, an Indian joy, shaped like a stem.\n",
            "A triangular pastry of golden delight,\n",
            "Filled with spiced vegetables, such spectacular sight.\n",
            "\n",
            "A crunchy exterior, a warm invitation,\n",
            "A potato and peas treasure, held in submission.\n",
            "Accompanied by chutneys, colors so bright,\n",
            "Dipping the morsel, pure pleasure in a bite.\n",
            "\n",
            "A tale of flavor, wrapped in a package small,\n",
            "Samosa, a friend when hunger does call.\n",
            "Whether at parties or a quiet night at home,\n",
            "A bite of such satisfying comfort, making you roam.\n",
            "\n",
            "In India, street vendors, frying in a pan,\n",
            "Gratefully received by every woman and man.\n",
            "Across the world, sampling diverse takes,\n",
            "Samosa, an eternal favorite, no need for excuses.\n",
            "\n",
            "Ah, Samosa, an ode to thee I make,\n",
            "A spiced journey, a feast at stakes.\n",
            "A delicious story, passed down through generations,\n",
            "In our hearts, and on plates, Samosa regulations.\n"
          ]
        },
        {
          "output_type": "error",
          "ename": "KeyboardInterrupt",
          "evalue": "Interrupted by user",
          "traceback": [
            "\u001b[0;31m---------------------------------------------------------------------------\u001b[0m",
            "\u001b[0;31mKeyboardInterrupt\u001b[0m                         Traceback (most recent call last)",
            "\u001b[0;32m<ipython-input-9-b66669398ecd>\u001b[0m in \u001b[0;36m<cell line: 92>\u001b[0;34m()\u001b[0m\n\u001b[1;32m     90\u001b[0m \u001b[0;34m\u001b[0m\u001b[0m\n\u001b[1;32m     91\u001b[0m \u001b[0mthread_id\u001b[0m \u001b[0;34m=\u001b[0m \u001b[0;34m\"1\"\u001b[0m\u001b[0;34m\u001b[0m\u001b[0;34m\u001b[0m\u001b[0m\n\u001b[0;32m---> 92\u001b[0;31m \u001b[0mstart_interactive_chat\u001b[0m\u001b[0;34m(\u001b[0m\u001b[0mthread_id\u001b[0m\u001b[0;34m)\u001b[0m\u001b[0;34m\u001b[0m\u001b[0;34m\u001b[0m\u001b[0m\n\u001b[0m",
            "\u001b[0;32m<ipython-input-9-b66669398ecd>\u001b[0m in \u001b[0;36mstart_interactive_chat\u001b[0;34m(thread_id)\u001b[0m\n\u001b[1;32m     66\u001b[0m \u001b[0;34m\u001b[0m\u001b[0m\n\u001b[1;32m     67\u001b[0m     \u001b[0;32mwhile\u001b[0m \u001b[0;32mTrue\u001b[0m\u001b[0;34m:\u001b[0m\u001b[0;34m\u001b[0m\u001b[0;34m\u001b[0m\u001b[0m\n\u001b[0;32m---> 68\u001b[0;31m         \u001b[0muser_input\u001b[0m \u001b[0;34m=\u001b[0m \u001b[0minput\u001b[0m\u001b[0;34m(\u001b[0m\u001b[0;34m\"You: \"\u001b[0m\u001b[0;34m)\u001b[0m\u001b[0;34m\u001b[0m\u001b[0;34m\u001b[0m\u001b[0m\n\u001b[0m\u001b[1;32m     69\u001b[0m \u001b[0;34m\u001b[0m\u001b[0m\n\u001b[1;32m     70\u001b[0m         \u001b[0;32mif\u001b[0m \u001b[0muser_input\u001b[0m\u001b[0;34m.\u001b[0m\u001b[0mlower\u001b[0m\u001b[0;34m(\u001b[0m\u001b[0;34m)\u001b[0m \u001b[0;34m==\u001b[0m \u001b[0;34m\"show memory\"\u001b[0m\u001b[0;34m:\u001b[0m\u001b[0;34m\u001b[0m\u001b[0;34m\u001b[0m\u001b[0m\n",
            "\u001b[0;32m/usr/local/lib/python3.10/dist-packages/ipykernel/kernelbase.py\u001b[0m in \u001b[0;36mraw_input\u001b[0;34m(self, prompt)\u001b[0m\n\u001b[1;32m    849\u001b[0m                 \u001b[0;34m\"raw_input was called, but this frontend does not support input requests.\"\u001b[0m\u001b[0;34m\u001b[0m\u001b[0;34m\u001b[0m\u001b[0m\n\u001b[1;32m    850\u001b[0m             )\n\u001b[0;32m--> 851\u001b[0;31m         return self._input_request(str(prompt),\n\u001b[0m\u001b[1;32m    852\u001b[0m             \u001b[0mself\u001b[0m\u001b[0;34m.\u001b[0m\u001b[0m_parent_ident\u001b[0m\u001b[0;34m,\u001b[0m\u001b[0;34m\u001b[0m\u001b[0;34m\u001b[0m\u001b[0m\n\u001b[1;32m    853\u001b[0m             \u001b[0mself\u001b[0m\u001b[0;34m.\u001b[0m\u001b[0m_parent_header\u001b[0m\u001b[0;34m,\u001b[0m\u001b[0;34m\u001b[0m\u001b[0;34m\u001b[0m\u001b[0m\n",
            "\u001b[0;32m/usr/local/lib/python3.10/dist-packages/ipykernel/kernelbase.py\u001b[0m in \u001b[0;36m_input_request\u001b[0;34m(self, prompt, ident, parent, password)\u001b[0m\n\u001b[1;32m    893\u001b[0m             \u001b[0;32mexcept\u001b[0m \u001b[0mKeyboardInterrupt\u001b[0m\u001b[0;34m:\u001b[0m\u001b[0;34m\u001b[0m\u001b[0;34m\u001b[0m\u001b[0m\n\u001b[1;32m    894\u001b[0m                 \u001b[0;31m# re-raise KeyboardInterrupt, to truncate traceback\u001b[0m\u001b[0;34m\u001b[0m\u001b[0;34m\u001b[0m\u001b[0m\n\u001b[0;32m--> 895\u001b[0;31m                 \u001b[0;32mraise\u001b[0m \u001b[0mKeyboardInterrupt\u001b[0m\u001b[0;34m(\u001b[0m\u001b[0;34m\"Interrupted by user\"\u001b[0m\u001b[0;34m)\u001b[0m \u001b[0;32mfrom\u001b[0m \u001b[0;32mNone\u001b[0m\u001b[0;34m\u001b[0m\u001b[0;34m\u001b[0m\u001b[0m\n\u001b[0m\u001b[1;32m    896\u001b[0m             \u001b[0;32mexcept\u001b[0m \u001b[0mException\u001b[0m \u001b[0;32mas\u001b[0m \u001b[0me\u001b[0m\u001b[0;34m:\u001b[0m\u001b[0;34m\u001b[0m\u001b[0;34m\u001b[0m\u001b[0m\n\u001b[1;32m    897\u001b[0m                 \u001b[0mself\u001b[0m\u001b[0;34m.\u001b[0m\u001b[0mlog\u001b[0m\u001b[0;34m.\u001b[0m\u001b[0mwarning\u001b[0m\u001b[0;34m(\u001b[0m\u001b[0;34m\"Invalid Message:\"\u001b[0m\u001b[0;34m,\u001b[0m \u001b[0mexc_info\u001b[0m\u001b[0;34m=\u001b[0m\u001b[0;32mTrue\u001b[0m\u001b[0;34m)\u001b[0m\u001b[0;34m\u001b[0m\u001b[0;34m\u001b[0m\u001b[0m\n",
            "\u001b[0;31mKeyboardInterrupt\u001b[0m: Interrupted by user"
          ]
        }
      ]
    },
    {
      "cell_type": "code",
      "source": [],
      "metadata": {
        "id": "9A_Cu2xYY9_q"
      },
      "execution_count": null,
      "outputs": []
    }
  ]
}