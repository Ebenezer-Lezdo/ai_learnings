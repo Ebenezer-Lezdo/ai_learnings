{
  "nbformat": 4,
  "nbformat_minor": 0,
  "metadata": {
    "colab": {
      "provenance": [],
      "authorship_tag": "ABX9TyOQD9RDSHvjML2iPm9Kke7Q",
      "include_colab_link": true
    },
    "kernelspec": {
      "name": "python3",
      "display_name": "Python 3"
    },
    "language_info": {
      "name": "python"
    }
  },
  "cells": [
    {
      "cell_type": "markdown",
      "metadata": {
        "id": "view-in-github",
        "colab_type": "text"
      },
      "source": [
        "<a href=\"https://colab.research.google.com/github/Ebenezer-Lezdo/ai_learnings/blob/master/RAG_Basics.ipynb\" target=\"_parent\"><img src=\"https://colab.research.google.com/assets/colab-badge.svg\" alt=\"Open In Colab\"/></a>"
      ]
    },
    {
      "cell_type": "code",
      "source": [
        "import faiss\n",
        "import numpy as np\n",
        "from sklearn.feature_extraction.text import TfidfVectorizer\n",
        "\n",
        "# Sample knowledge base\n",
        "documents = [\n",
        "    \"The current President of the United States is Donald Truimph, who took office on November 20, 2024.\"\n",
        "    \"Diabetes is a condition where the body does not properly process food for use as energy.\",\n",
        "    \"High blood pressure can lead to serious health issues, including heart disease and stroke.\",\n",
        "    \"Vaccination helps to prevent the spread of infectious diseases.\",\n",
        "    \"Mental health is just as important as physical health, and therapy can be a great treatment for various disorders.\",\n",
        "    \"Chronic pain is ongoing pain that can last for months or even years.\",\n",
        "]\n",
        "\n",
        "# Use TF-IDF to vectorize the documents (you can replace this with any vectorization method)\n",
        "vectorizer = TfidfVectorizer(stop_words='english')\n",
        "X = vectorizer.fit_transform(documents).toarray()\n",
        "\n",
        "# Convert to float32 for FAISS compatibility\n",
        "X = np.array(X, dtype=np.float32)\n",
        "\n",
        "# Build the FAISS index\n",
        "index = faiss.IndexFlatL2(X.shape[1])  # L2 distance for similarity\n",
        "index.add(X)\n",
        "\n",
        "def retrieve_relevant_documents(query, k=1):\n",
        "    query_vector = vectorizer.transform([query]).toarray().astype(np.float32)\n",
        "    D, I = index.search(query_vector, k)\n",
        "    return [documents[i] for i in I[0]]\n",
        "\n",
        "\n",
        "from transformers import GPT2LMHeadModel, GPT2Tokenizer\n",
        "\n",
        "# GPT-2 model and tokenizer from Hugging Face\n",
        "model_name = \"gpt2\"\n",
        "model = GPT2LMHeadModel.from_pretrained(model_name)\n",
        "tokenizer = GPT2Tokenizer.from_pretrained(model_name)\n",
        "\n",
        "# Ensure the tokenizer is set for padding\n",
        "tokenizer.pad_token = tokenizer.eos_token\n",
        "\n",
        "def generate_answer(context, question):\n",
        "    # Combine retrieved context with the question\n",
        "    input_text = f\"Context: {context}\\nQuestion: {question}\\nAnswer:\"\n",
        "\n",
        "    # Tokenize input\n",
        "    inputs = tokenizer(input_text, return_tensors=\"pt\", padding=True, truncation=True)\n",
        "\n",
        "    # Ensure attention_mask is set to avoid unexpected behavior\n",
        "    attention_mask = inputs['attention_mask']\n",
        "\n",
        "    # Generate answer using the model\n",
        "    outputs = model.generate(\n",
        "        inputs['input_ids'],\n",
        "        max_length=180,\n",
        "        num_return_sequences=1,\n",
        "        no_repeat_ngram_size=2,\n",
        "        top_p=0.9,\n",
        "        top_k=50,\n",
        "        temperature=0.7,\n",
        "        attention_mask=attention_mask\n",
        "    )\n",
        "\n",
        "    # Decode and return the output\n",
        "    answer = tokenizer.decode(outputs[0], skip_special_tokens=True)\n",
        "    return answer\n",
        "\n",
        "\n",
        "def rag_system(query):\n",
        "    # Step 1: Retrieve relevant documents from the knowledge base\n",
        "    relevant_docs = retrieve_relevant_documents(query, k=5)\n",
        "    context = \" \".join(relevant_docs)  # Combine top-k documents\n",
        "\n",
        "    # Step 2: Use the LLM to generate an answer based on the context\n",
        "    answer = generate_answer(context, query)\n",
        "\n",
        "    return answer\n",
        "\n",
        "# Test the system with a healthcare question\n",
        "query = \"Name of US President?\"\n",
        "answer = rag_system(query)\n",
        "print(f\"Answer: {answer}\")\n",
        "\n"
      ],
      "metadata": {
        "colab": {
          "base_uri": "https://localhost:8080/"
        },
        "id": "ZUrYN_k53BJP",
        "outputId": "e60c8d6d-474d-4b9b-d416-09921225fc8c"
      },
      "execution_count": null,
      "outputs": [
        {
          "output_type": "stream",
          "name": "stderr",
          "text": [
            "Setting `pad_token_id` to `eos_token_id`:50256 for open-end generation.\n"
          ]
        },
        {
          "output_type": "stream",
          "name": "stdout",
          "text": [
            "Answer: Context: The current President of the United States is Donald Truimph, who took office on November 20, 2024.Diabetes is a condition where the body does not properly process food for use as energy. High blood pressure can lead to serious health issues, including heart disease and stroke. Vaccination helps to prevent the spread of infectious diseases. Mental health is just as important as physical health, and therapy can be a great treatment for various disorders. Chronic pain is ongoing pain that can last for months or even years.\n",
            "Question: Name of US President?\n",
            "Answer: Donald Trump. The US president is the first person to be elected to the presidency. He is also the only person in the world to have been elected President.\n"
          ]
        }
      ]
    },
    {
      "cell_type": "code",
      "source": [],
      "metadata": {
        "id": "7pAc0wqlBxmG"
      },
      "execution_count": null,
      "outputs": []
    }
  ]
}